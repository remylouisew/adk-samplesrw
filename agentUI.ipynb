{
 "cells": [
  {
   "cell_type": "code",
   "execution_count": null,
   "metadata": {},
   "outputs": [],
   "source": [
    "python3 -m venv ./agentvenv\n",
    "source agentvenv/bin/activate\n",
    "\n",
    "pip3 install google-adk\n",
    "\n",
    "#also need to install npm and nodejs"
   ]
  }
 ],
 "metadata": {
  "language_info": {
   "name": "python"
  }
 },
 "nbformat": 4,
 "nbformat_minor": 2
}
